{
 "cells": [
  {
   "cell_type": "markdown",
   "metadata": {},
   "source": [
    "<h1>COVID-19 and Vaccine Mortality - Visualized<h1>"
   ]
  },
  {
   "cell_type": "markdown",
   "metadata": {},
   "source": [
    "<h3>Summary<h3>"
   ]
  },
  {
   "cell_type": "markdown",
   "metadata": {},
   "source": [
    "   This project will seek to quantify the actual mortality rates of COVID-19 and the Pfizer/BioNtech, Moderna, and Johnson and Johnson vaccines for it. The internet and media are full of conflicting views on the safety of the COVID-19 vaccines, so the VAERS (Vaccine Adverse Event Reporting System) data provided by the CDC (Center for Disease Control) will be used to analyze the mortality of the various COVID-19 vaccines. As of the date of this report, the latest update of the VAERS was on 10/02/2021; therefore, this report will only use data from the beginning of the COVID-19 pandemic until that date. Since the VAERS system is limited to the U.S. only, the project will consider only U.S. COVID-19 data in general.\n",
    "   \n",
    "   The goal of the project is to discover and provide evidence of the COVID-19 vaccines' effectiveness in keeping people safe during the pandemic, and to answer the question: \"Is one better off getting the vaccine or chancing a COVID-19 infection?\" The U.S. public seems to be divided on vaccine/no-vaccine, with many heated arguments in workplaces, schools, and homes accross the nation. This is cause for concern of bias, as much for the viewer of the visualizations as for the author. Throughout this report, potential avaneues for bias and data shortcommings will be addressed."
   ]
  },
  {
   "cell_type": "markdown",
   "metadata": {},
   "source": [
    "<h3>The Data<h3>"
   ]
  },
  {
   "cell_type": "markdown",
   "metadata": {},
   "source": [
    "Two data sources will be used. Instead of loading them via url, the urls will be provided and the displayed code will reference the downloaded .csv files. This is because the CDC only allows humans to interact with the VAERS data to ensure everyone using the data sees the disclaimer. It is encouraged that the reader view the disclaimer to understand the shortcommings of the VAERS data:\n",
    "    \n",
    "   VAERS accepts reports of adverse events and reactions that occur following vaccination. Healthcare providers, vaccine manufacturers, and the public can submit reports to VAERS. While very important in monitoring vaccine safety, VAERS reports alone cannot be used to determine if a vaccine caused or contributed to an adverse event or illness. The reports may contain information that is incomplete, inaccurate, coincidental, or unverifiable. Most reports to VAERS are voluntary, which means they are subject to biases. This creates specific limitations on how the data can be used scientifically. Data from VAERS reports should always be interpreted with these limitations in mind.\n",
    "    \n",
    "   The strengths of VAERS are that it is national in scope and can quickly provide an early warning of a safety problem with a vaccine. As part of CDC and FDA's multi-system approach to post-licensure vaccine safety monitoring, VAERS is designed to rapidly detect unusual or unexpected patterns of adverse events, also known as \"safety signals.\" If a safety signal is found in VAERS, further studies can be done in safety systems such as the CDC's Vaccine Safety Datalink (VSD) or the Clinical Immunization Safety Assessment (CISA) project. These systems do not have the same limitations as VAERS, and can better assess health risks and possible connections between adverse events and a vaccine.\n",
    "\n",
    "Key considerations and limitations of VAERS data:\n",
    "\n",
    "1. Vaccine providers are encouraged to report any clinically significant health problem following vaccination to VAERS, whether or not they believe the vaccine was the cause.\n",
    "    \n",
    "2. Reports may include incomplete, inaccurate, coincidental and unverified information.\n",
    "    \n",
    "3. The number of reports alone cannot be interpreted or used to reach conclusions about the existence, severity, frequency, or rates of problems associated with vaccines.\n",
    "    \n",
    "4. VAERS data are limited to vaccine adverse event reports received between 1990 and the most recent date for which data are available.\n",
    "    \n",
    "5. VAERS data do not represent all known safety information for a vaccine and should be interpreted in the context of other scientific information.\n",
    "    \n",
    "6. VAERS data available to the public include only the initial report data to VAERS. Updated data which contains data from medical records and corrections reported during follow up are used by the government for analysis. \n",
    "    \n",
    "However, for numerous reasons including data consistency, these amended data are not available to the public.\n",
    "    \n",
    "Source for VAERS Data: https://wonder.cdc.gov/vaers.html\n",
    "\n",
    "The other COVID-19 data that is unrelated to vaccines comes from the aggregated COVID-19 data on github.\n",
    "    \n",
    "Source for the COVID-19 Data: https://github.com/CSSEGISandData/COVID-19/blob/master/csse_covid_19_data/csse_covid_19_daily_reports_us/10-02-2021.csv\n"
   ]
  },
  {
   "cell_type": "markdown",
   "metadata": {},
   "source": [
    "<h3>Bringing in the Data<h3>"
   ]
  },
  {
   "cell_type": "markdown",
   "metadata": {},
   "source": [
    "   To begin, the data will be loaded into python pandas dataframe objects. The data will be queried with pandasql and visualized with altair."
   ]
  },
  {
   "cell_type": "code",
   "execution_count": 1,
   "metadata": {},
   "outputs": [],
   "source": [
    "import pandas as pd\n",
    "import numpy as np\n",
    "from pandasql import sqldf\n",
    "import altair as alt"
   ]
  },
  {
   "cell_type": "code",
   "execution_count": 2,
   "metadata": {},
   "outputs": [
    {
     "name": "stderr",
     "output_type": "stream",
     "text": [
      "/Users/dillonwilliams/opt/anaconda3/lib/python3.8/site-packages/IPython/core/interactiveshell.py:3146: DtypeWarning: Columns (7,12,15,23) have mixed types.Specify dtype option on import or set low_memory=False.\n",
      "  has_raised = await self.run_ast_nodes(code_ast.body, cell_name,\n"
     ]
    }
   ],
   "source": [
    "# Open the files\n",
    "df_data = pd.read_csv('2021VAERSDATA.csv', encoding='iso-8859-1')\n",
    "df_vax = pd.read_csv('2021VAERSVAX.csv', encoding='iso-8859-1')\n",
    "df_covid = pd.read_csv('10-02-2021.csv')\n",
    "\n",
    "# Join vaccine and vaers data on common 'Vaers_ID' column\n",
    "df = pd.merge(df_data,df_vax, on = ['VAERS_ID'])"
   ]
  },
  {
   "cell_type": "markdown",
   "metadata": {},
   "source": [
    "<h3>Low-Fidelity Query and Visualization<h3>"
   ]
  },
  {
   "cell_type": "code",
   "execution_count": 3,
   "metadata": {},
   "outputs": [
    {
     "name": "stdout",
     "output_type": "stream",
     "text": [
      "   index              VAX_MANU  Deaths\n",
      "0      0               MODERNA    3592\n",
      "1      4       PFIZER\\BIONTECH    4036\n",
      "2    202  UNKNOWN MANUFACTURER      33\n",
      "3   1674               JANSSEN     795\n"
     ]
    }
   ],
   "source": [
    "# Query for Deaths by COVID Vaccine Manufacturer\n",
    "pysqldf = lambda q: sqldf(q, globals())\n",
    "vax_deaths = pysqldf(\"SELECT VAX_TYPE,VAX_MANU from df WHERE DIED = 'Y';\")\n",
    "deaths_covid_vax = pysqldf(\"SELECT VAX_MANU FROM vax_deaths WHERE VAX_TYPE = 'COVID19';\")\n",
    "deaths_covid_vax['Deaths'] = deaths_covid_vax.VAX_MANU.map(deaths_covid_vax.VAX_MANU.value_counts())\n",
    "deaths_covid_vax = deaths_covid_vax.drop_duplicates().reset_index()\n",
    "print(deaths_covid_vax.head())"
   ]
  },
  {
   "cell_type": "code",
   "execution_count": 4,
   "metadata": {},
   "outputs": [
    {
     "data": {
      "text/html": [
       "\n",
       "<div id=\"altair-viz-ce422456115d48d58079b8d412b9c5fa\"></div>\n",
       "<script type=\"text/javascript\">\n",
       "  (function(spec, embedOpt){\n",
       "    let outputDiv = document.currentScript.previousElementSibling;\n",
       "    if (outputDiv.id !== \"altair-viz-ce422456115d48d58079b8d412b9c5fa\") {\n",
       "      outputDiv = document.getElementById(\"altair-viz-ce422456115d48d58079b8d412b9c5fa\");\n",
       "    }\n",
       "    const paths = {\n",
       "      \"vega\": \"https://cdn.jsdelivr.net/npm//vega@5?noext\",\n",
       "      \"vega-lib\": \"https://cdn.jsdelivr.net/npm//vega-lib?noext\",\n",
       "      \"vega-lite\": \"https://cdn.jsdelivr.net/npm//vega-lite@4.8.1?noext\",\n",
       "      \"vega-embed\": \"https://cdn.jsdelivr.net/npm//vega-embed@6?noext\",\n",
       "    };\n",
       "\n",
       "    function loadScript(lib) {\n",
       "      return new Promise(function(resolve, reject) {\n",
       "        var s = document.createElement('script');\n",
       "        s.src = paths[lib];\n",
       "        s.async = true;\n",
       "        s.onload = () => resolve(paths[lib]);\n",
       "        s.onerror = () => reject(`Error loading script: ${paths[lib]}`);\n",
       "        document.getElementsByTagName(\"head\")[0].appendChild(s);\n",
       "      });\n",
       "    }\n",
       "\n",
       "    function showError(err) {\n",
       "      outputDiv.innerHTML = `<div class=\"error\" style=\"color:red;\">${err}</div>`;\n",
       "      throw err;\n",
       "    }\n",
       "\n",
       "    function displayChart(vegaEmbed) {\n",
       "      vegaEmbed(outputDiv, spec, embedOpt)\n",
       "        .catch(err => showError(`Javascript Error: ${err.message}<br>This usually means there's a typo in your chart specification. See the javascript console for the full traceback.`));\n",
       "    }\n",
       "\n",
       "    if(typeof define === \"function\" && define.amd) {\n",
       "      requirejs.config({paths});\n",
       "      require([\"vega-embed\"], displayChart, err => showError(`Error loading script: ${err.message}`));\n",
       "    } else if (typeof vegaEmbed === \"function\") {\n",
       "      displayChart(vegaEmbed);\n",
       "    } else {\n",
       "      loadScript(\"vega\")\n",
       "        .then(() => loadScript(\"vega-lite\"))\n",
       "        .then(() => loadScript(\"vega-embed\"))\n",
       "        .catch(showError)\n",
       "        .then(() => displayChart(vegaEmbed));\n",
       "    }\n",
       "  })({\"config\": {\"view\": {\"continuousWidth\": 400, \"continuousHeight\": 300}}, \"data\": {\"name\": \"data-e79b0f69af4e2fa4ebc52775a756fccf\"}, \"mark\": \"bar\", \"encoding\": {\"x\": {\"type\": \"nominal\", \"field\": \"VAX_MANU\"}, \"y\": {\"type\": \"quantitative\", \"field\": \"Deaths\"}}, \"$schema\": \"https://vega.github.io/schema/vega-lite/v4.8.1.json\", \"datasets\": {\"data-e79b0f69af4e2fa4ebc52775a756fccf\": [{\"index\": 0, \"VAX_MANU\": \"MODERNA\", \"Deaths\": 3592}, {\"index\": 4, \"VAX_MANU\": \"PFIZER\\\\BIONTECH\", \"Deaths\": 4036}, {\"index\": 202, \"VAX_MANU\": \"UNKNOWN MANUFACTURER\", \"Deaths\": 33}, {\"index\": 1674, \"VAX_MANU\": \"JANSSEN\", \"Deaths\": 795}]}}, {\"mode\": \"vega-lite\"});\n",
       "</script>"
      ],
      "text/plain": [
       "alt.Chart(...)"
      ]
     },
     "execution_count": 4,
     "metadata": {},
     "output_type": "execute_result"
    }
   ],
   "source": [
    "# Create visualization\n",
    "alt.Chart(deaths_covid_vax).mark_bar().encode(x='VAX_MANU',y='Deaths')"
   ]
  },
  {
   "cell_type": "code",
   "execution_count": 5,
   "metadata": {},
   "outputs": [
    {
     "name": "stdout",
     "output_type": "stream",
     "text": [
      "    index              VAX_MANU  Deaths\n",
      "0     0.0               MODERNA    3592\n",
      "1     4.0       PFIZER\\BIONTECH    4036\n",
      "2   202.0  UNKNOWN MANUFACTURER      33\n",
      "3  1674.0               JANSSEN     795\n",
      "4     NaN              COVID-19  701451\n"
     ]
    }
   ],
   "source": [
    "# Add in COVID Data\n",
    "covid_deaths = pysqldf(\"SELECT SUM(Deaths) from df_covid;\")\n",
    "total_deaths = deaths_covid_vax.append({'VAX_MANU':'COVID-19','Deaths':covid_deaths['SUM(Deaths)'][0]},ignore_index = True)\n",
    "print(total_deaths.head())"
   ]
  },
  {
   "cell_type": "code",
   "execution_count": 6,
   "metadata": {},
   "outputs": [
    {
     "data": {
      "text/html": [
       "\n",
       "<div id=\"altair-viz-3e78b336e9b344d982606f416a72de04\"></div>\n",
       "<script type=\"text/javascript\">\n",
       "  (function(spec, embedOpt){\n",
       "    let outputDiv = document.currentScript.previousElementSibling;\n",
       "    if (outputDiv.id !== \"altair-viz-3e78b336e9b344d982606f416a72de04\") {\n",
       "      outputDiv = document.getElementById(\"altair-viz-3e78b336e9b344d982606f416a72de04\");\n",
       "    }\n",
       "    const paths = {\n",
       "      \"vega\": \"https://cdn.jsdelivr.net/npm//vega@5?noext\",\n",
       "      \"vega-lib\": \"https://cdn.jsdelivr.net/npm//vega-lib?noext\",\n",
       "      \"vega-lite\": \"https://cdn.jsdelivr.net/npm//vega-lite@4.8.1?noext\",\n",
       "      \"vega-embed\": \"https://cdn.jsdelivr.net/npm//vega-embed@6?noext\",\n",
       "    };\n",
       "\n",
       "    function loadScript(lib) {\n",
       "      return new Promise(function(resolve, reject) {\n",
       "        var s = document.createElement('script');\n",
       "        s.src = paths[lib];\n",
       "        s.async = true;\n",
       "        s.onload = () => resolve(paths[lib]);\n",
       "        s.onerror = () => reject(`Error loading script: ${paths[lib]}`);\n",
       "        document.getElementsByTagName(\"head\")[0].appendChild(s);\n",
       "      });\n",
       "    }\n",
       "\n",
       "    function showError(err) {\n",
       "      outputDiv.innerHTML = `<div class=\"error\" style=\"color:red;\">${err}</div>`;\n",
       "      throw err;\n",
       "    }\n",
       "\n",
       "    function displayChart(vegaEmbed) {\n",
       "      vegaEmbed(outputDiv, spec, embedOpt)\n",
       "        .catch(err => showError(`Javascript Error: ${err.message}<br>This usually means there's a typo in your chart specification. See the javascript console for the full traceback.`));\n",
       "    }\n",
       "\n",
       "    if(typeof define === \"function\" && define.amd) {\n",
       "      requirejs.config({paths});\n",
       "      require([\"vega-embed\"], displayChart, err => showError(`Error loading script: ${err.message}`));\n",
       "    } else if (typeof vegaEmbed === \"function\") {\n",
       "      displayChart(vegaEmbed);\n",
       "    } else {\n",
       "      loadScript(\"vega\")\n",
       "        .then(() => loadScript(\"vega-lite\"))\n",
       "        .then(() => loadScript(\"vega-embed\"))\n",
       "        .catch(showError)\n",
       "        .then(() => displayChart(vegaEmbed));\n",
       "    }\n",
       "  })({\"config\": {\"view\": {\"continuousWidth\": 400, \"continuousHeight\": 300}}, \"data\": {\"name\": \"data-2d69f3ac3114614562702bab2098459e\"}, \"mark\": \"bar\", \"encoding\": {\"x\": {\"type\": \"nominal\", \"field\": \"VAX_MANU\"}, \"y\": {\"type\": \"quantitative\", \"field\": \"Deaths\"}}, \"$schema\": \"https://vega.github.io/schema/vega-lite/v4.8.1.json\", \"datasets\": {\"data-2d69f3ac3114614562702bab2098459e\": [{\"index\": 0.0, \"VAX_MANU\": \"MODERNA\", \"Deaths\": 3592}, {\"index\": 4.0, \"VAX_MANU\": \"PFIZER\\\\BIONTECH\", \"Deaths\": 4036}, {\"index\": 202.0, \"VAX_MANU\": \"UNKNOWN MANUFACTURER\", \"Deaths\": 33}, {\"index\": 1674.0, \"VAX_MANU\": \"JANSSEN\", \"Deaths\": 795}, {\"index\": null, \"VAX_MANU\": \"COVID-19\", \"Deaths\": 701451}]}}, {\"mode\": \"vega-lite\"});\n",
       "</script>"
      ],
      "text/plain": [
       "alt.Chart(...)"
      ]
     },
     "execution_count": 6,
     "metadata": {},
     "output_type": "execute_result"
    }
   ],
   "source": [
    "# Create visualization\n",
    "alt.Chart(total_deaths).mark_bar().encode(x='VAX_MANU',y='Deaths')"
   ]
  },
  {
   "cell_type": "markdown",
   "metadata": {},
   "source": [
    "<h3>Initial Feedback - Expiramental Evaluation<h3>"
   ]
  },
  {
   "cell_type": "markdown",
   "metadata": {},
   "source": [
    "Though the visualization does demonstrate the massive difference in the raw number of U.S. COVID-19 deaths and the amount of deaths due to the three major vaccines available in the U.S., the low fidelity concept visualization leaves much wanting. Three people were recruited for feedback, and the main points of the feedback were:\n",
    "\n",
    "1. What about percentage (mortality rate)?\n",
    "2. How does age play a factor?\n",
    "3. What are the common factors in the deaths?\n",
    "4. The vaccine has only been out for less than a year. How about COVID-19 deaths and vaccine deaths since the vaccine?\n",
    "5. Bar chart makes it hard to see the data.\n",
    "\n",
    "When viewing the results of the data, the tested were confused initially by the metric. The bars were so large for the vaccine-related deaths in the first chart, but then barely even visible in the second. This will need to be corrected in the final visualization. \n",
    "\n",
    "While some of the points were deemed to be beyond the scope of this project, it was decided to pursue the mortality rate according to age for all vaccines combined and the COVID-19 virus."
   ]
  },
  {
   "cell_type": "markdown",
   "metadata": {},
   "source": [
    "<h3>Second Round Design - More features<h3>"
   ]
  },
  {
   "cell_type": "code",
   "execution_count": 7,
   "metadata": {},
   "outputs": [
    {
     "name": "stdout",
     "output_type": "stream",
     "text": [
      "     index  AGE_YRS  Deaths\n",
      "0        0    78.00   206.0\n",
      "1        1    82.00   241.0\n",
      "2        2    90.00   196.0\n",
      "3        4    64.00   141.0\n",
      "4        5    65.00   168.0\n",
      "..     ...      ...     ...\n",
      "103   5209    14.00     1.0\n",
      "104   5434    13.00     5.0\n",
      "105   6297     0.50     1.0\n",
      "106   6426     1.17     4.0\n",
      "107   8068    11.00     1.0\n",
      "\n",
      "[108 rows x 3 columns]\n"
     ]
    }
   ],
   "source": [
    "# Query for age of vaccine deaths\n",
    "vax_deaths_ages = pysqldf(\"SELECT AGE_YRS FROM df WHERE DIED = 'Y';\")\n",
    "vax_deaths_ages['Deaths'] = vax_deaths_ages.AGE_YRS.map(vax_deaths_ages.AGE_YRS.value_counts())\n",
    "vax_deaths_ages = vax_deaths_ages.drop_duplicates().dropna().reset_index()\n",
    "print(vax_deaths_ages)"
   ]
  },
  {
   "cell_type": "markdown",
   "metadata": {},
   "source": [
    "Now to calculate the mortality rate, the total administered vaccine data needed to be retreived, and it was discovered that the administering data was grouped into age groups: 12+,18+, and 65+. Now, the age data will be sorted into those three groups.\n",
    "\n",
    "New Data Source: https://data.cdc.gov/Vaccinations/COVID-19-Vaccinations-in-the-United-States-Jurisdi/unsk-b7fc"
   ]
  },
  {
   "cell_type": "code",
   "execution_count": 8,
   "metadata": {},
   "outputs": [
    {
     "name": "stdout",
     "output_type": "stream",
     "text": [
      "  Groups   Count\n",
      "0  12-17    95.0\n",
      "1  18-64  1927.0\n",
      "2    65+  6004.0\n"
     ]
    }
   ],
   "source": [
    "vax_age_groups = pd.DataFrame({'Groups':['12-17','18-64','65+'],'Count':[0,0,0]})\n",
    "i=0\n",
    "while i < vax_deaths_ages.shape[0]:\n",
    "    if int(vax_deaths_ages.iloc[i]['AGE_YRS']) <= 17:\n",
    "        vax_age_groups.loc[0,'Count'] = vax_age_groups.loc[0,'Count']+vax_deaths_ages.loc[i,'Deaths']\n",
    "    elif int(vax_deaths_ages.iloc[i]['AGE_YRS']) <= 64:\n",
    "        vax_age_groups.loc[1,'Count'] = vax_age_groups.loc[1,'Count']+vax_deaths_ages.loc[i,'Deaths']\n",
    "    else:\n",
    "        vax_age_groups.loc[2,'Count'] = vax_age_groups.loc[2,'Count']+vax_deaths_ages.loc[i,'Deaths']\n",
    "    i+=1\n",
    "\n",
    "print(vax_age_groups.head())"
   ]
  },
  {
   "cell_type": "code",
   "execution_count": 9,
   "metadata": {},
   "outputs": [
    {
     "name": "stdout",
     "output_type": "stream",
     "text": [
      "  Groups   Count  Administered\n",
      "0  12-17    95.0      22913560\n",
      "1  18-64  1927.0     258136419\n",
      "2    65+  6004.0      92883566\n"
     ]
    }
   ],
   "source": [
    "# Bring in Vaccination Data\n",
    "df_vax_admin = pd.read_csv('COVID-19_Vaccinations_in_the_United_States_Jurisdiction.csv')\n",
    "group2 = pysqldf(\"SELECT SUM(Series_Complete_65plus) from df_vax_admin WHERE Date = '10/02/2021';\")\n",
    "group1 = pysqldf(\"SELECT SUM(Series_Complete_18plus) from df_vax_admin WHERE Date = '10/02/2021';\")\n",
    "group0 = pysqldf(\"SELECT SUM(Series_Complete_12plus) from df_vax_admin WHERE Date = '10/02/2021';\")\n",
    "\n",
    "group2_admin = group2['SUM(Series_Complete_65plus)'][0]\n",
    "group1_admin = group1['SUM(Series_Complete_18plus)'][0] - group2_admin\n",
    "group0_admin = group0['SUM(Series_Complete_12plus)'][0] - group2_admin - group1_admin\n",
    "\n",
    "vax_age_groups['Administered'] = [group0_admin, group1_admin, group2_admin]\n",
    "print(vax_age_groups.head())"
   ]
  },
  {
   "cell_type": "code",
   "execution_count": 10,
   "metadata": {},
   "outputs": [
    {
     "name": "stdout",
     "output_type": "stream",
     "text": [
      "  Groups   Count  Administered  Mortality Rate\n",
      "0  12-17    95.0      22913560        0.000415\n",
      "1  18-64  1927.0     258136419        0.000747\n",
      "2    65+  6004.0      92883566        0.006464\n"
     ]
    }
   ],
   "source": [
    "# Calculate Mortality Rate by Age Group\n",
    "i = 0\n",
    "mortality = []\n",
    "while i < vax_age_groups.shape[0]:\n",
    "    mortality.append(vax_age_groups.loc[i,'Count']/vax_age_groups.loc[i,'Administered']*100)\n",
    "    i += 1\n",
    "vax_age_groups['Mortality Rate'] = mortality\n",
    "print(vax_age_groups.head())"
   ]
  },
  {
   "cell_type": "code",
   "execution_count": 11,
   "metadata": {},
   "outputs": [
    {
     "data": {
      "text/html": [
       "\n",
       "<div id=\"altair-viz-c4614039b7aa4affa13522541f5594c6\"></div>\n",
       "<script type=\"text/javascript\">\n",
       "  (function(spec, embedOpt){\n",
       "    let outputDiv = document.currentScript.previousElementSibling;\n",
       "    if (outputDiv.id !== \"altair-viz-c4614039b7aa4affa13522541f5594c6\") {\n",
       "      outputDiv = document.getElementById(\"altair-viz-c4614039b7aa4affa13522541f5594c6\");\n",
       "    }\n",
       "    const paths = {\n",
       "      \"vega\": \"https://cdn.jsdelivr.net/npm//vega@5?noext\",\n",
       "      \"vega-lib\": \"https://cdn.jsdelivr.net/npm//vega-lib?noext\",\n",
       "      \"vega-lite\": \"https://cdn.jsdelivr.net/npm//vega-lite@4.8.1?noext\",\n",
       "      \"vega-embed\": \"https://cdn.jsdelivr.net/npm//vega-embed@6?noext\",\n",
       "    };\n",
       "\n",
       "    function loadScript(lib) {\n",
       "      return new Promise(function(resolve, reject) {\n",
       "        var s = document.createElement('script');\n",
       "        s.src = paths[lib];\n",
       "        s.async = true;\n",
       "        s.onload = () => resolve(paths[lib]);\n",
       "        s.onerror = () => reject(`Error loading script: ${paths[lib]}`);\n",
       "        document.getElementsByTagName(\"head\")[0].appendChild(s);\n",
       "      });\n",
       "    }\n",
       "\n",
       "    function showError(err) {\n",
       "      outputDiv.innerHTML = `<div class=\"error\" style=\"color:red;\">${err}</div>`;\n",
       "      throw err;\n",
       "    }\n",
       "\n",
       "    function displayChart(vegaEmbed) {\n",
       "      vegaEmbed(outputDiv, spec, embedOpt)\n",
       "        .catch(err => showError(`Javascript Error: ${err.message}<br>This usually means there's a typo in your chart specification. See the javascript console for the full traceback.`));\n",
       "    }\n",
       "\n",
       "    if(typeof define === \"function\" && define.amd) {\n",
       "      requirejs.config({paths});\n",
       "      require([\"vega-embed\"], displayChart, err => showError(`Error loading script: ${err.message}`));\n",
       "    } else if (typeof vegaEmbed === \"function\") {\n",
       "      displayChart(vegaEmbed);\n",
       "    } else {\n",
       "      loadScript(\"vega\")\n",
       "        .then(() => loadScript(\"vega-lite\"))\n",
       "        .then(() => loadScript(\"vega-embed\"))\n",
       "        .catch(showError)\n",
       "        .then(() => displayChart(vegaEmbed));\n",
       "    }\n",
       "  })({\"config\": {\"view\": {\"continuousWidth\": 400, \"continuousHeight\": 300}}, \"data\": {\"name\": \"data-fc9e2ffba0dffb07f5d73cce471f15d7\"}, \"mark\": \"bar\", \"encoding\": {\"x\": {\"type\": \"nominal\", \"field\": \"Groups\"}, \"y\": {\"type\": \"quantitative\", \"field\": \"Mortality Rate\"}}, \"$schema\": \"https://vega.github.io/schema/vega-lite/v4.8.1.json\", \"datasets\": {\"data-fc9e2ffba0dffb07f5d73cce471f15d7\": [{\"Groups\": \"12-17\", \"Count\": 95.0, \"Administered\": 22913560, \"Mortality Rate\": 0.0004146016594540525}, {\"Groups\": \"18-64\", \"Count\": 1927.0, \"Administered\": 258136419, \"Mortality Rate\": 0.0007465045062084014}, {\"Groups\": \"65+\", \"Count\": 6004.0, \"Administered\": 92883566, \"Mortality Rate\": 0.006464006775967236}]}}, {\"mode\": \"vega-lite\"});\n",
       "</script>"
      ],
      "text/plain": [
       "alt.Chart(...)"
      ]
     },
     "execution_count": 11,
     "metadata": {},
     "output_type": "execute_result"
    }
   ],
   "source": [
    "# Create visualization\n",
    "alt.Chart(vax_age_groups).mark_bar().encode(x='Groups',y='Mortality Rate')"
   ]
  },
  {
   "cell_type": "markdown",
   "metadata": {},
   "source": [
    "Now that the mortality rate of the vaccines have been categorized by age, the mortality rate of the virus will be calculated by the same age groups. Another data source from the CDC will be retrieved.\n",
    "\n",
    "New Data Source: https://data.cdc.gov/NCHS/Provisional-COVID-19-Deaths-by-Sex-and-Age/9bhg-hcku/data"
   ]
  },
  {
   "cell_type": "code",
   "execution_count": 12,
   "metadata": {},
   "outputs": [
    {
     "name": "stdout",
     "output_type": "stream",
     "text": [
      "  Groups   Count\n",
      "0   0-24     678\n",
      "1  18-64  164735\n",
      "2    65+  537191\n"
     ]
    }
   ],
   "source": [
    "df_covid = pd.read_csv('Provisional_COVID-19_Deaths_by_Sex_and_Age.csv')\n",
    "df_covid = df_covid.rename(columns={'COVID-19 Deaths':'Covid_Deaths','Age Group':'Age_Group','Start Date':'Start_Date','End Date':'End_Date'})\n",
    "df_covid = pysqldf(\"SELECT Age_Group,Covid_Deaths from df_covid WHERE Start_Date = '01/01/2020' AND End_Date = '10/02/2021' AND Sex = 'All Sexes';\")\n",
    "\n",
    "group01 = pysqldf(\"SELECT SUM(Covid_Deaths) from df_covid WHERE Age_Group = 'Under 1 year';\")\n",
    "group02 = pysqldf(\"SELECT SUM(Covid_Deaths) from df_covid WHERE Age_Group = '0-17 years';\")\n",
    "group03 = pysqldf(\"SELECT SUM(Covid_Deaths) from df_covid WHERE Age_Group = '5-14 years';\")\n",
    "group04 = pysqldf(\"SELECT SUM(Covid_Deaths) from df_covid WHERE Age_Group = '1-4 years';\")\n",
    "group0 = int(group01['SUM(Covid_Deaths)'][0])+int(group02['SUM(Covid_Deaths)'][0])+int(group03['SUM(Covid_Deaths)'][0])+int(group04['SUM(Covid_Deaths)'][0])\n",
    "\n",
    "group11 = pysqldf(\"SELECT SUM(Covid_Deaths) from df_covid WHERE Age_Group = '18-29 years';\")\n",
    "group12 = pysqldf(\"SELECT SUM(Covid_Deaths) from df_covid WHERE Age_Group = '30-39 years';\")\n",
    "group13 = pysqldf(\"SELECT SUM(Covid_Deaths) from df_covid WHERE Age_Group = '40-49 years';\")\n",
    "group14 = pysqldf(\"SELECT SUM(Covid_Deaths) from df_covid WHERE Age_Group = '50-64 years';\")\n",
    "group1 = int(group11['SUM(Covid_Deaths)'][0])+int(group12['SUM(Covid_Deaths)'][0])+int(group13['SUM(Covid_Deaths)'][0])+int(group14['SUM(Covid_Deaths)'][0])\n",
    "\n",
    "group21 = pysqldf(\"SELECT SUM(Covid_Deaths) from df_covid WHERE Age_Group = '65-74 years';\")\n",
    "group22 = pysqldf(\"SELECT SUM(Covid_Deaths) from df_covid WHERE Age_Group = '75-84 years';\")\n",
    "group23 = pysqldf(\"SELECT SUM(Covid_Deaths) from df_covid WHERE Age_Group = '85 years and over';\")\n",
    "group2 = int(group21['SUM(Covid_Deaths)'][0])+int(group22['SUM(Covid_Deaths)'][0])+int(group23['SUM(Covid_Deaths)'][0])\n",
    "\n",
    "covid_age_groups = pd.DataFrame({'Groups':['0-24','18-64','65+'],'Count':[group0//2,group1//2,group2//2]})\n",
    "print(covid_age_groups.head())"
   ]
  },
  {
   "cell_type": "markdown",
   "metadata": {},
   "source": [
    "For case data by age, the public surveillance data was pulled from the CDC website.\n",
    "\n",
    "New Data Source: https://data.cdc.gov/Case-Surveillance/COVID-19-Case-Surveillance-Public-Use-Data-Profile/xigx-wn5e"
   ]
  },
  {
   "cell_type": "code",
   "execution_count": 13,
   "metadata": {},
   "outputs": [
    {
     "name": "stdout",
     "output_type": "stream",
     "text": [
      "  Groups   Count     Cases\n",
      "0   0-24     678   5709977\n",
      "1  18-64  164735  23905567\n",
      "2    65+  537191   2853228\n"
     ]
    }
   ],
   "source": [
    "cases_20s = pd.read_csv('COVID-19_Case_Surveillance_Public_Use_Data_20s.csv').shape[0]\n",
    "cases_30s = pd.read_csv('COVID-19_Case_Surveillance_Public_Use_Data30s.csv').shape[0]\n",
    "cases_40s = pd.read_csv('COVID-19_Case_Surveillance_Public_Use_Data40s.csv').shape[0]\n",
    "cases_50s = pd.read_csv('COVID-19_Case_Surveillance_Public_Use_Data50s.csv').shape[0]\n",
    "cases_10s = pd.read_csv('COVID-19_Case_Surveillance_Public_Use_Data10s.csv').shape[0]\n",
    "cases_60s = pd.read_csv('COVID-19_Case_Surveillance_Public_Use_Data60s.csv').shape[0]\n",
    "cases_0s = pd.read_csv('COVID-19_Case_Surveillance_Public_Use_Data0s.csv').shape[0]\n",
    "cases_70s = pd.read_csv('COVID-19_Case_Surveillance_Public_Use_Data70s.csv').shape[0]\n",
    "cases_80s = pd.read_csv('COVID-19_Case_Surveillance_Public_Use_Data80s.csv').shape[0]\n",
    "\n",
    "covid_age_groups['Cases'] = [cases_0s+cases_10s,cases_20s+cases_30s+cases_40s+cases_50s+cases_60s,cases_70s+cases_80s]\n",
    "print(covid_age_groups.head())"
   ]
  },
  {
   "cell_type": "code",
   "execution_count": 16,
   "metadata": {},
   "outputs": [
    {
     "name": "stdout",
     "output_type": "stream",
     "text": [
      "  Groups   Count     Cases  Mortality Rate\n",
      "0   0-24     678   5709977        0.011874\n",
      "1  18-64  164735  23905567        0.689107\n",
      "2    65+  537191   2853228       18.827482\n"
     ]
    }
   ],
   "source": [
    "# Calculate Mortality Rate by Age Group\n",
    "i = 0\n",
    "mortality = []\n",
    "while i < covid_age_groups.shape[0]:\n",
    "    mortality.append(covid_age_groups.loc[i,'Count']/covid_age_groups.loc[i,'Cases']*100)\n",
    "    i += 1\n",
    "covid_age_groups['Mortality Rate'] = mortality\n",
    "print(covid_age_groups.head())"
   ]
  },
  {
   "cell_type": "code",
   "execution_count": 17,
   "metadata": {},
   "outputs": [
    {
     "data": {
      "text/html": [
       "\n",
       "<div id=\"altair-viz-1b0d18c3d99d4335857d264b6bd22a1f\"></div>\n",
       "<script type=\"text/javascript\">\n",
       "  (function(spec, embedOpt){\n",
       "    let outputDiv = document.currentScript.previousElementSibling;\n",
       "    if (outputDiv.id !== \"altair-viz-1b0d18c3d99d4335857d264b6bd22a1f\") {\n",
       "      outputDiv = document.getElementById(\"altair-viz-1b0d18c3d99d4335857d264b6bd22a1f\");\n",
       "    }\n",
       "    const paths = {\n",
       "      \"vega\": \"https://cdn.jsdelivr.net/npm//vega@5?noext\",\n",
       "      \"vega-lib\": \"https://cdn.jsdelivr.net/npm//vega-lib?noext\",\n",
       "      \"vega-lite\": \"https://cdn.jsdelivr.net/npm//vega-lite@4.8.1?noext\",\n",
       "      \"vega-embed\": \"https://cdn.jsdelivr.net/npm//vega-embed@6?noext\",\n",
       "    };\n",
       "\n",
       "    function loadScript(lib) {\n",
       "      return new Promise(function(resolve, reject) {\n",
       "        var s = document.createElement('script');\n",
       "        s.src = paths[lib];\n",
       "        s.async = true;\n",
       "        s.onload = () => resolve(paths[lib]);\n",
       "        s.onerror = () => reject(`Error loading script: ${paths[lib]}`);\n",
       "        document.getElementsByTagName(\"head\")[0].appendChild(s);\n",
       "      });\n",
       "    }\n",
       "\n",
       "    function showError(err) {\n",
       "      outputDiv.innerHTML = `<div class=\"error\" style=\"color:red;\">${err}</div>`;\n",
       "      throw err;\n",
       "    }\n",
       "\n",
       "    function displayChart(vegaEmbed) {\n",
       "      vegaEmbed(outputDiv, spec, embedOpt)\n",
       "        .catch(err => showError(`Javascript Error: ${err.message}<br>This usually means there's a typo in your chart specification. See the javascript console for the full traceback.`));\n",
       "    }\n",
       "\n",
       "    if(typeof define === \"function\" && define.amd) {\n",
       "      requirejs.config({paths});\n",
       "      require([\"vega-embed\"], displayChart, err => showError(`Error loading script: ${err.message}`));\n",
       "    } else if (typeof vegaEmbed === \"function\") {\n",
       "      displayChart(vegaEmbed);\n",
       "    } else {\n",
       "      loadScript(\"vega\")\n",
       "        .then(() => loadScript(\"vega-lite\"))\n",
       "        .then(() => loadScript(\"vega-embed\"))\n",
       "        .catch(showError)\n",
       "        .then(() => displayChart(vegaEmbed));\n",
       "    }\n",
       "  })({\"config\": {\"view\": {\"continuousWidth\": 400, \"continuousHeight\": 300}}, \"data\": {\"name\": \"data-4838f6983fcf38dbd6fedd5ba90b25c8\"}, \"mark\": \"bar\", \"encoding\": {\"x\": {\"type\": \"nominal\", \"field\": \"Groups\"}, \"y\": {\"type\": \"quantitative\", \"field\": \"Mortality Rate\"}}, \"$schema\": \"https://vega.github.io/schema/vega-lite/v4.8.1.json\", \"datasets\": {\"data-4838f6983fcf38dbd6fedd5ba90b25c8\": [{\"Groups\": \"0-24\", \"Count\": 678, \"Cases\": 5709977, \"Mortality Rate\": 0.011873953257605065}, {\"Groups\": \"18-64\", \"Count\": 164735, \"Cases\": 23905567, \"Mortality Rate\": 0.6891072694489949}, {\"Groups\": \"65+\", \"Count\": 537191, \"Cases\": 2853228, \"Mortality Rate\": 18.82748241640696}]}}, {\"mode\": \"vega-lite\"});\n",
       "</script>"
      ],
      "text/plain": [
       "alt.Chart(...)"
      ]
     },
     "execution_count": 17,
     "metadata": {},
     "output_type": "execute_result"
    }
   ],
   "source": [
    "# Create visualization\n",
    "alt.Chart(covid_age_groups).mark_bar().encode(x='Groups',y='Mortality Rate')"
   ]
  },
  {
   "cell_type": "markdown",
   "metadata": {},
   "source": [
    "<h3>New and Improved Visualization<h3>"
   ]
  },
  {
   "cell_type": "code",
   "execution_count": 64,
   "metadata": {},
   "outputs": [
    {
     "name": "stdout",
     "output_type": "stream",
     "text": [
      "  Age Group  Mortality Rate    Cause\n",
      "0     12-17        0.000415  Vaccine\n",
      "1     18-64        0.000747  Vaccine\n",
      "2       65+        0.006464  Vaccine\n",
      "3      0-24        0.011874    Covid\n",
      "4     18-64        0.689107    Covid\n",
      "5       65+       18.827482    Covid\n"
     ]
    },
    {
     "data": {
      "text/html": [
       "\n",
       "<div id=\"altair-viz-e7a4e457d8404594a40be77cbe7b340a\"></div>\n",
       "<script type=\"text/javascript\">\n",
       "  (function(spec, embedOpt){\n",
       "    let outputDiv = document.currentScript.previousElementSibling;\n",
       "    if (outputDiv.id !== \"altair-viz-e7a4e457d8404594a40be77cbe7b340a\") {\n",
       "      outputDiv = document.getElementById(\"altair-viz-e7a4e457d8404594a40be77cbe7b340a\");\n",
       "    }\n",
       "    const paths = {\n",
       "      \"vega\": \"https://cdn.jsdelivr.net/npm//vega@5?noext\",\n",
       "      \"vega-lib\": \"https://cdn.jsdelivr.net/npm//vega-lib?noext\",\n",
       "      \"vega-lite\": \"https://cdn.jsdelivr.net/npm//vega-lite@4.8.1?noext\",\n",
       "      \"vega-embed\": \"https://cdn.jsdelivr.net/npm//vega-embed@6?noext\",\n",
       "    };\n",
       "\n",
       "    function loadScript(lib) {\n",
       "      return new Promise(function(resolve, reject) {\n",
       "        var s = document.createElement('script');\n",
       "        s.src = paths[lib];\n",
       "        s.async = true;\n",
       "        s.onload = () => resolve(paths[lib]);\n",
       "        s.onerror = () => reject(`Error loading script: ${paths[lib]}`);\n",
       "        document.getElementsByTagName(\"head\")[0].appendChild(s);\n",
       "      });\n",
       "    }\n",
       "\n",
       "    function showError(err) {\n",
       "      outputDiv.innerHTML = `<div class=\"error\" style=\"color:red;\">${err}</div>`;\n",
       "      throw err;\n",
       "    }\n",
       "\n",
       "    function displayChart(vegaEmbed) {\n",
       "      vegaEmbed(outputDiv, spec, embedOpt)\n",
       "        .catch(err => showError(`Javascript Error: ${err.message}<br>This usually means there's a typo in your chart specification. See the javascript console for the full traceback.`));\n",
       "    }\n",
       "\n",
       "    if(typeof define === \"function\" && define.amd) {\n",
       "      requirejs.config({paths});\n",
       "      require([\"vega-embed\"], displayChart, err => showError(`Error loading script: ${err.message}`));\n",
       "    } else if (typeof vegaEmbed === \"function\") {\n",
       "      displayChart(vegaEmbed);\n",
       "    } else {\n",
       "      loadScript(\"vega\")\n",
       "        .then(() => loadScript(\"vega-lite\"))\n",
       "        .then(() => loadScript(\"vega-embed\"))\n",
       "        .catch(showError)\n",
       "        .then(() => displayChart(vegaEmbed));\n",
       "    }\n",
       "  })({\"config\": {\"view\": {\"continuousWidth\": 400, \"continuousHeight\": 300}}, \"data\": {\"name\": \"data-74f20cabaea08d4164c1506f12d40c20\"}, \"mark\": {\"type\": \"circle\", \"size\": 300}, \"encoding\": {\"color\": {\"type\": \"nominal\", \"field\": \"Cause\", \"scale\": {\"scheme\": \"goldred\"}}, \"tooltip\": [{\"type\": \"nominal\", \"field\": \"Cause\"}, {\"type\": \"nominal\", \"field\": \"Age Group\"}, {\"type\": \"quantitative\", \"field\": \"Mortality Rate\"}], \"x\": {\"type\": \"nominal\", \"axis\": {\"tickCount\": 6}, \"field\": \"Age Group\"}, \"y\": {\"type\": \"quantitative\", \"axis\": {\"tickCount\": 6}, \"field\": \"Mortality Rate\", \"scale\": {\"type\": \"log\"}, \"sort\": \"ascending\"}}, \"selection\": {\"selector035\": {\"type\": \"interval\", \"bind\": \"scales\", \"encodings\": [\"x\", \"y\"]}}, \"width\": 250, \"$schema\": \"https://vega.github.io/schema/vega-lite/v4.8.1.json\", \"datasets\": {\"data-74f20cabaea08d4164c1506f12d40c20\": [{\"Age Group\": \"12-17\", \"Mortality Rate\": 0.0004146016594540525, \"Cause\": \"Vaccine\"}, {\"Age Group\": \"18-64\", \"Mortality Rate\": 0.0007465045062084014, \"Cause\": \"Vaccine\"}, {\"Age Group\": \"65+\", \"Mortality Rate\": 0.006464006775967236, \"Cause\": \"Vaccine\"}, {\"Age Group\": \"0-24\", \"Mortality Rate\": 0.011873953257605065, \"Cause\": \"Covid\"}, {\"Age Group\": \"18-64\", \"Mortality Rate\": 0.6891072694489949, \"Cause\": \"Covid\"}, {\"Age Group\": \"65+\", \"Mortality Rate\": 18.82748241640696, \"Cause\": \"Covid\"}]}}, {\"mode\": \"vega-lite\"});\n",
       "</script>"
      ],
      "text/plain": [
       "alt.Chart(...)"
      ]
     },
     "execution_count": 64,
     "metadata": {},
     "output_type": "execute_result"
    }
   ],
   "source": [
    "# New Chart\n",
    "Age_Group = list(vax_age_groups['Groups'])+list(covid_age_groups['Groups'])\n",
    "Mortality_Rate = list(vax_age_groups['Mortality Rate'])+list(covid_age_groups['Mortality Rate'])\n",
    "Cause = ['Vaccine']*3+['Covid']*3\n",
    "df = pd.DataFrame({'Age Group':Age_Group,'Mortality Rate':Mortality_Rate,'Cause':Cause})\n",
    "print(df)\n",
    "\n",
    "alt.Chart(df).mark_circle(size=300).encode(\n",
    "    alt.X('Age Group',\n",
    "          axis = alt.Axis(tickCount=6)),\n",
    "    alt.Y('Mortality Rate',\n",
    "          scale = alt.Scale(type='log'),\n",
    "          sort = 'ascending',\n",
    "          axis = alt.Axis(tickCount=6)),\n",
    "    alt.Color('Cause',\n",
    "              scale = alt.Scale(scheme='goldred')),\n",
    "    tooltip = ['Cause', 'Age Group', 'Mortality Rate']\n",
    ").interactive().properties(width=250)"
   ]
  },
  {
   "cell_type": "markdown",
   "metadata": {},
   "source": [
    "<h3>Final Evaluation<h3>"
   ]
  },
  {
   "cell_type": "markdown",
   "metadata": {},
   "source": [
    "For the final evaluation, the same three people from the initial feedback were approached and asked to view the visualization. This was met with overall better feedback. The logorithmic scale, though not entirely intuitive, did help put the two mortality rates in perspective. The following questions were asked, and they are accompanied by the resulting answers:\n",
    "\n",
    "1. What do you see in this chart? Did you learn anything?\n",
    "    Person A: \"I see that the COVID vaccine is safer than catching COVID!\"\n",
    "    Person B: \"I learned that the vaccine does have risk.\"\n",
    "    Person C: \"I would rather take the vaccine than risk COVID.\"\n",
    "\n",
    "2. Did you learn something new from this visualization?\n",
    "    Person A: \"I will reconsider getting the vaccine.\"\n",
    "    Person B: \"I learned that the COVID vaccine isn't 100% safe.\"\n",
    "    Person C: \"That COVID is really dangerous for old people.\"\n",
    "    \n",
    "3. What improvements would you like to see to this visualization?\n",
    "    Person A: \"Could you connect the dots to show a line?\"\n",
    "    Person B: \"It's difficult for me to see the difference in the colors.\"\n",
    "    Person C: \"Add lines between the points.\"\n",
    "    \n",
    "From this evaluation, future iterations of designs should focus on more salient datapoints, especially when highlighting the difference between two datasets. People like to see goups, so adding a line connecting the data points could have aided in the inuitiveness of the design. Also, logorithmic scales are not intuitive for most people. The covid mortality rate in ages 65+ is over 18%! That is a massive shock to most people, and it could have been highlighted better. "
   ]
  },
  {
   "cell_type": "markdown",
   "metadata": {},
   "source": [
    "<h3>Final Thoughts<h3>"
   ]
  },
  {
   "cell_type": "markdown",
   "metadata": {},
   "source": [
    "Exploring this data was tedious, but really fun. I set out with my own bias of the vaccine being increadible and everyone should take it, but I did learn that people have died from it. An accurate conclusion would be that people should consult their family physicians before taking one of the available COVID-19 vaccines. The vaccines were approved for emergency use, and, therefore, they should be thoroughly vetted by an expert that knows the individual's medical history. \n",
    "\n",
    "Getting other people's feedback early on in the process really helped flesh out a final design. And if I were to pursue it further and add in the second round suggestions, I believe the visualization could be very impactful. Perhaps I will pursue that route after the conclusion of this course. \n",
    "\n",
    "In the future, I will spend more time learning the data and sketching possible tasks/visualizations. I just jumped on the coding, and that really lead to a lot of frustration and straying from the task. "
   ]
  }
 ],
 "metadata": {
  "kernelspec": {
   "display_name": "Python 3",
   "language": "python",
   "name": "python3"
  },
  "language_info": {
   "codemirror_mode": {
    "name": "ipython",
    "version": 3
   },
   "file_extension": ".py",
   "mimetype": "text/x-python",
   "name": "python",
   "nbconvert_exporter": "python",
   "pygments_lexer": "ipython3",
   "version": "3.8.5"
  }
 },
 "nbformat": 4,
 "nbformat_minor": 4
}
